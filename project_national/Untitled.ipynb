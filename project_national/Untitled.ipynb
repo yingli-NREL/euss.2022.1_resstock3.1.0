{
 "cells": [
  {
   "cell_type": "code",
   "execution_count": 1,
   "id": "4ddbb248",
   "metadata": {},
   "outputs": [
    {
     "name": "stderr",
     "output_type": "stream",
     "text": [
      "C:\\Users\\ylou2\\AppData\\Local\\Temp\\1\\ipykernel_1480\\1005636947.py:2: DtypeWarning: Columns (123) have mixed types. Specify dtype option on import or set low_memory=False.\n",
      "  df = pd.read_csv(\"buildstock.csv\")\n"
     ]
    }
   ],
   "source": [
    "import pandas as pd\n",
    "df = pd.read_csv(\"buildstock.csv\")"
   ]
  },
  {
   "cell_type": "code",
   "execution_count": 3,
   "id": "1c8e028e",
   "metadata": {},
   "outputs": [],
   "source": [
    "df = df.drop('Schedules', axis=1)"
   ]
  },
  {
   "cell_type": "code",
   "execution_count": 8,
   "id": "f5388a63",
   "metadata": {},
   "outputs": [],
   "source": [
    "import numpy as np\n",
    "df = df.replace(np.nan, 'None')"
   ]
  },
  {
   "cell_type": "code",
   "execution_count": 15,
   "id": "641043c0",
   "metadata": {},
   "outputs": [],
   "source": [
    "test = df.head(100)"
   ]
  },
  {
   "cell_type": "code",
   "execution_count": 13,
   "id": "6af1b6f7",
   "metadata": {},
   "outputs": [],
   "source": [
    "test.to_csv(\"buildstock_no_schedule_test.csv\", index=False)\n",
    "df.to_csv(\"buildstock_no_schedule.csv\", index=False)"
   ]
  },
  {
   "cell_type": "code",
   "execution_count": 16,
   "id": "1715e596",
   "metadata": {},
   "outputs": [],
   "source": [
    "test.to_csv(\"buildstock_no_schedule_test.csv\", index=False)"
   ]
  },
  {
   "cell_type": "code",
   "execution_count": 18,
   "id": "1b9b937a",
   "metadata": {},
   "outputs": [
    {
     "data": {
      "text/plain": [
       "str"
      ]
     },
     "execution_count": 18,
     "metadata": {},
     "output_type": "execute_result"
    }
   ],
   "source": [
    "type(test['Geometry Building Number Units MF'][3])"
   ]
  },
  {
   "cell_type": "code",
   "execution_count": null,
   "id": "22dff21a",
   "metadata": {},
   "outputs": [],
   "source": []
  }
 ],
 "metadata": {
  "kernelspec": {
   "display_name": "Python 3 (ipykernel)",
   "language": "python",
   "name": "python3"
  },
  "language_info": {
   "codemirror_mode": {
    "name": "ipython",
    "version": 3
   },
   "file_extension": ".py",
   "mimetype": "text/x-python",
   "name": "python",
   "nbconvert_exporter": "python",
   "pygments_lexer": "ipython3",
   "version": "3.9.13"
  }
 },
 "nbformat": 4,
 "nbformat_minor": 5
}
